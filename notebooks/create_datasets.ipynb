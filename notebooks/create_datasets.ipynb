{
 "cells": [
  {
   "cell_type": "code",
   "execution_count": 1,
   "metadata": {},
   "outputs": [],
   "source": [
    "import requests\n",
    "import pandas as pd"
   ]
  },
  {
   "cell_type": "code",
   "execution_count": 9,
   "metadata": {},
   "outputs": [],
   "source": [
    "base_url = 'https://api.binance.com/api/v3/klines'\n",
    "params = {\n",
    "    'symbol': 'OGUSDT',\n",
    "    'interval': '15m',\n",
    "    'limit': 1000\n",
    "} "
   ]
  },
  {
   "cell_type": "code",
   "execution_count": 10,
   "metadata": {},
   "outputs": [],
   "source": [
    "response = requests.get(base_url, params=params)\n",
    "response = response.json()"
   ]
  },
  {
   "cell_type": "code",
   "execution_count": 18,
   "metadata": {},
   "outputs": [],
   "source": [
    "df = pd.DataFrame(response)\n",
    "#df = df.rename(columns={'0': 'Open Time', '1': 'Open Price', '2': 'High Price', '3': 'Low Price', '4': 'Close Price', \n",
    "#                        '5': 'Volume', '6': 'Close Time', '7': 'Quote Asset Volume', '8': 'Number of Trades',\n",
    " #                       '9': 'Total base asset purchased by takers', '10': 'Total quote asset sold by takers'})\n",
    "\n",
    "df.columns = ['Open Time', 'Open Price', 'High Price', 'Low Price', 'Close Price', 'Volume', 'Close Time', \n",
    "              'Quote Asset Volume', 'Number of Trades', 'Total base asset purchased by takers', 'Total quote asset sold by takers', 'Ignore']\n",
    "\n",
    "df = df.drop('Ignore', axis=1)"
   ]
  },
  {
   "cell_type": "code",
   "execution_count": 19,
   "metadata": {},
   "outputs": [
    {
     "data": {
      "text/html": [
       "<div>\n",
       "<style scoped>\n",
       "    .dataframe tbody tr th:only-of-type {\n",
       "        vertical-align: middle;\n",
       "    }\n",
       "\n",
       "    .dataframe tbody tr th {\n",
       "        vertical-align: top;\n",
       "    }\n",
       "\n",
       "    .dataframe thead th {\n",
       "        text-align: right;\n",
       "    }\n",
       "</style>\n",
       "<table border=\"1\" class=\"dataframe\">\n",
       "  <thead>\n",
       "    <tr style=\"text-align: right;\">\n",
       "      <th></th>\n",
       "      <th>Open Time</th>\n",
       "      <th>Open Price</th>\n",
       "      <th>High Price</th>\n",
       "      <th>Low Price</th>\n",
       "      <th>Close Price</th>\n",
       "      <th>Volume</th>\n",
       "      <th>Close Time</th>\n",
       "      <th>Quote Asset Volume</th>\n",
       "      <th>Number of Trades</th>\n",
       "      <th>Total base asset purchased by takers</th>\n",
       "      <th>Total quote asset sold by takers</th>\n",
       "    </tr>\n",
       "  </thead>\n",
       "  <tbody>\n",
       "    <tr>\n",
       "      <th>0</th>\n",
       "      <td>1728019800000</td>\n",
       "      <td>2.71800000</td>\n",
       "      <td>2.72400000</td>\n",
       "      <td>2.71700000</td>\n",
       "      <td>2.72200000</td>\n",
       "      <td>1972.50000000</td>\n",
       "      <td>1728020699999</td>\n",
       "      <td>5364.78150000</td>\n",
       "      <td>61</td>\n",
       "      <td>1021.50000000</td>\n",
       "      <td>2780.05890000</td>\n",
       "    </tr>\n",
       "    <tr>\n",
       "      <th>1</th>\n",
       "      <td>1728020700000</td>\n",
       "      <td>2.72200000</td>\n",
       "      <td>2.72600000</td>\n",
       "      <td>2.71600000</td>\n",
       "      <td>2.72400000</td>\n",
       "      <td>1317.50000000</td>\n",
       "      <td>1728021599999</td>\n",
       "      <td>3584.04560000</td>\n",
       "      <td>94</td>\n",
       "      <td>371.90000000</td>\n",
       "      <td>1012.55660000</td>\n",
       "    </tr>\n",
       "    <tr>\n",
       "      <th>2</th>\n",
       "      <td>1728021600000</td>\n",
       "      <td>2.72400000</td>\n",
       "      <td>2.72600000</td>\n",
       "      <td>2.70900000</td>\n",
       "      <td>2.71600000</td>\n",
       "      <td>2345.60000000</td>\n",
       "      <td>1728022499999</td>\n",
       "      <td>6368.33800000</td>\n",
       "      <td>161</td>\n",
       "      <td>1197.10000000</td>\n",
       "      <td>3249.19890000</td>\n",
       "    </tr>\n",
       "    <tr>\n",
       "      <th>3</th>\n",
       "      <td>1728022500000</td>\n",
       "      <td>2.71700000</td>\n",
       "      <td>2.72900000</td>\n",
       "      <td>2.71600000</td>\n",
       "      <td>2.72600000</td>\n",
       "      <td>1784.70000000</td>\n",
       "      <td>1728023399999</td>\n",
       "      <td>4861.93380000</td>\n",
       "      <td>65</td>\n",
       "      <td>488.20000000</td>\n",
       "      <td>1328.40490000</td>\n",
       "    </tr>\n",
       "    <tr>\n",
       "      <th>4</th>\n",
       "      <td>1728023400000</td>\n",
       "      <td>2.72800000</td>\n",
       "      <td>2.73100000</td>\n",
       "      <td>2.71700000</td>\n",
       "      <td>2.71800000</td>\n",
       "      <td>1143.70000000</td>\n",
       "      <td>1728024299999</td>\n",
       "      <td>3118.32560000</td>\n",
       "      <td>86</td>\n",
       "      <td>713.80000000</td>\n",
       "      <td>1948.40110000</td>\n",
       "    </tr>\n",
       "  </tbody>\n",
       "</table>\n",
       "</div>"
      ],
      "text/plain": [
       "       Open Time  Open Price  High Price   Low Price Close Price  \\\n",
       "0  1728019800000  2.71800000  2.72400000  2.71700000  2.72200000   \n",
       "1  1728020700000  2.72200000  2.72600000  2.71600000  2.72400000   \n",
       "2  1728021600000  2.72400000  2.72600000  2.70900000  2.71600000   \n",
       "3  1728022500000  2.71700000  2.72900000  2.71600000  2.72600000   \n",
       "4  1728023400000  2.72800000  2.73100000  2.71700000  2.71800000   \n",
       "\n",
       "          Volume     Close Time Quote Asset Volume  Number of Trades  \\\n",
       "0  1972.50000000  1728020699999      5364.78150000                61   \n",
       "1  1317.50000000  1728021599999      3584.04560000                94   \n",
       "2  2345.60000000  1728022499999      6368.33800000               161   \n",
       "3  1784.70000000  1728023399999      4861.93380000                65   \n",
       "4  1143.70000000  1728024299999      3118.32560000                86   \n",
       "\n",
       "  Total base asset purchased by takers Total quote asset sold by takers  \n",
       "0                        1021.50000000                    2780.05890000  \n",
       "1                         371.90000000                    1012.55660000  \n",
       "2                        1197.10000000                    3249.19890000  \n",
       "3                         488.20000000                    1328.40490000  \n",
       "4                         713.80000000                    1948.40110000  "
      ]
     },
     "execution_count": 19,
     "metadata": {},
     "output_type": "execute_result"
    }
   ],
   "source": [
    "df.head()"
   ]
  },
  {
   "cell_type": "code",
   "execution_count": 20,
   "metadata": {},
   "outputs": [],
   "source": [
    "import time\n",
    "\n",
    "df['Open Time'] = pd.to_datetime(df['Open Time'], unit='ms')\n",
    "df['Close Time'] = pd.to_datetime(df['Close Time'], unit='ms')"
   ]
  },
  {
   "cell_type": "code",
   "execution_count": 27,
   "metadata": {},
   "outputs": [],
   "source": [
    "columns_not_to_convert = ['Open Time', 'Close Time']\n",
    "\n",
    "for col in df.columns:\n",
    "    if (col not in columns_not_to_convert) and (col != 'Number of Trades'):\n",
    "        df[col] = df[col].astype('float32')\n",
    "    elif col == 'Number of Trades':\n",
    "        df[col] = df[col].astype('int32')"
   ]
  },
  {
   "cell_type": "code",
   "execution_count": 28,
   "metadata": {},
   "outputs": [
    {
     "name": "stdout",
     "output_type": "stream",
     "text": [
      "<class 'pandas.core.frame.DataFrame'>\n",
      "RangeIndex: 1000 entries, 0 to 999\n",
      "Data columns (total 11 columns):\n",
      " #   Column                                Non-Null Count  Dtype         \n",
      "---  ------                                --------------  -----         \n",
      " 0   Open Time                             1000 non-null   datetime64[ns]\n",
      " 1   Open Price                            1000 non-null   float32       \n",
      " 2   High Price                            1000 non-null   float32       \n",
      " 3   Low Price                             1000 non-null   float32       \n",
      " 4   Close Price                           1000 non-null   float32       \n",
      " 5   Volume                                1000 non-null   float32       \n",
      " 6   Close Time                            1000 non-null   datetime64[ns]\n",
      " 7   Quote Asset Volume                    1000 non-null   float32       \n",
      " 8   Number of Trades                      1000 non-null   int32         \n",
      " 9   Total base asset purchased by takers  1000 non-null   float32       \n",
      " 10  Total quote asset sold by takers      1000 non-null   float32       \n",
      "dtypes: datetime64[ns](2), float32(8), int32(1)\n",
      "memory usage: 50.9 KB\n"
     ]
    }
   ],
   "source": [
    "df.info()"
   ]
  },
  {
   "cell_type": "code",
   "execution_count": 34,
   "metadata": {},
   "outputs": [
    {
     "data": {
      "text/plain": [
       "[<matplotlib.lines.Line2D at 0x7f994a6c6d30>]"
      ]
     },
     "execution_count": 34,
     "metadata": {},
     "output_type": "execute_result"
    },
    {
     "data": {
      "image/png": "[encoded data removed]",
      "text/plain": [
       "<Figure size 1200x300 with 1 Axes>"
      ]
     },
     "metadata": {},
     "output_type": "display_data"
    }
   ],
   "source": [
    "import matplotlib.pyplot as plt\n",
    "\n",
    "plt.figure(figsize=(12, 3))\n",
    "plt.plot(df['Close Time'], df['Close Price'])"
   ]
  },
  {
   "cell_type": "code",
   "execution_count": 35,
   "metadata": {},
   "outputs": [],
   "source": [
    "df.to_csv('data/OGUSDT.csv')"
   ]
  }
 ],
 "metadata": {
  "kernelspec": {
   "display_name": "venv",
   "language": "python",
   "name": "python3"
  },
  "language_info": {
   "codemirror_mode": {
    "name": "ipython",
    "version": 3
   },
   "file_extension": ".py",
   "mimetype": "text/x-python",
   "name": "python",
   "nbconvert_exporter": "python",
   "pygments_lexer": "ipython3",
   "version": "3.9.7"
  }
 },
 "nbformat": 4,
 "nbformat_minor": 2
}
